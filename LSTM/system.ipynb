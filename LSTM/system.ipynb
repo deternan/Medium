{
 "cells": [
  {
   "cell_type": "code",
   "execution_count": 6,
   "id": "allied-original",
   "metadata": {},
   "outputs": [],
   "source": [
    "# -*- coding: UTF8 -*-\n",
    "import os\n",
    "import datetime\n",
    "import platform\n"
   ]
  },
  {
   "cell_type": "code",
   "execution_count": 7,
   "id": "matched-moment",
   "metadata": {},
   "outputs": [
    {
     "name": "stdout",
     "output_type": "stream",
     "text": [
      "('10.16', ('', '', ''), 'x86_64')\n"
     ]
    }
   ],
   "source": [
    "# mac version\n",
    "print(platform.mac_ver()) "
   ]
  },
  {
   "cell_type": "code",
   "execution_count": null,
   "id": "cathedral-market",
   "metadata": {},
   "outputs": [],
   "source": [
    "# windows\n",
    "print(platform.win32_ver())"
   ]
  }
 ],
 "metadata": {
  "kernelspec": {
   "display_name": "Python 3",
   "language": "python",
   "name": "python3"
  },
  "language_info": {
   "codemirror_mode": {
    "name": "ipython",
    "version": 3
   },
   "file_extension": ".py",
   "mimetype": "text/x-python",
   "name": "python",
   "nbconvert_exporter": "python",
   "pygments_lexer": "ipython3",
   "version": "3.7.5rc1"
  }
 },
 "nbformat": 4,
 "nbformat_minor": 5
}
